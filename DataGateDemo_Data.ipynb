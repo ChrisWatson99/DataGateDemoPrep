{
 "cells": [
  {
   "cell_type": "markdown",
   "metadata": {},
   "source": [
    "# Take a first look at Banking Data csv file"
   ]
  },
  {
   "cell_type": "code",
   "execution_count": 118,
   "metadata": {},
   "outputs": [],
   "source": [
    "# !pip install pandas\n",
    "# !pip install matplotlib\n",
    "# !pip install pandasql"
   ]
  },
  {
   "cell_type": "code",
   "execution_count": 119,
   "metadata": {},
   "outputs": [],
   "source": [
    "import pandas as pd\n",
    "from pandasql import sqldf"
   ]
  },
  {
   "cell_type": "markdown",
   "metadata": {},
   "source": [
    "### First rows"
   ]
  },
  {
   "cell_type": "code",
   "execution_count": 120,
   "metadata": {},
   "outputs": [
    {
     "data": {
      "text/html": [
       "<div>\n",
       "<style scoped>\n",
       "    .dataframe tbody tr th:only-of-type {\n",
       "        vertical-align: middle;\n",
       "    }\n",
       "\n",
       "    .dataframe tbody tr th {\n",
       "        vertical-align: top;\n",
       "    }\n",
       "\n",
       "    .dataframe thead th {\n",
       "        text-align: right;\n",
       "    }\n",
       "</style>\n",
       "<table border=\"1\" class=\"dataframe\">\n",
       "  <thead>\n",
       "    <tr style=\"text-align: right;\">\n",
       "      <th></th>\n",
       "      <th>Unnamed: 0</th>\n",
       "      <th>eventCreateDate</th>\n",
       "      <th>originSystem</th>\n",
       "      <th>operation</th>\n",
       "      <th>isChargeback</th>\n",
       "      <th>operationType</th>\n",
       "      <th>operationCode</th>\n",
       "      <th>userId</th>\n",
       "      <th>accountType</th>\n",
       "      <th>cooperativeId</th>\n",
       "      <th>amount</th>\n",
       "      <th>installment</th>\n",
       "      <th>installmentAmount</th>\n",
       "      <th>description</th>\n",
       "      <th>category</th>\n",
       "      <th>customTransaction</th>\n",
       "      <th>category.imageCode</th>\n",
       "      <th>hashtag.value</th>\n",
       "      <th>storeName</th>\n",
       "      <th>cardMCC</th>\n",
       "    </tr>\n",
       "  </thead>\n",
       "  <tbody>\n",
       "    <tr>\n",
       "      <th>0</th>\n",
       "      <td>0.0</td>\n",
       "      <td>2019-07-01 03:05:44.860</td>\n",
       "      <td>Core</td>\n",
       "      <td>Credito</td>\n",
       "      <td>0.0</td>\n",
       "      <td>Principal</td>\n",
       "      <td>TransferenciaEntreContas</td>\n",
       "      <td>0</td>\n",
       "      <td>Poupanca</td>\n",
       "      <td>818</td>\n",
       "      <td>3.0</td>\n",
       "      <td>NaN</td>\n",
       "      <td>NaN</td>\n",
       "      <td>Transferência Da Conta Corrente Para Poupança</td>\n",
       "      <td>Aplicacao</td>\n",
       "      <td>NaN</td>\n",
       "      <td>Investimentos</td>\n",
       "      <td>NaN</td>\n",
       "      <td>NaN</td>\n",
       "      <td>NaN</td>\n",
       "    </tr>\n",
       "    <tr>\n",
       "      <th>1</th>\n",
       "      <td>1.0</td>\n",
       "      <td>2019-07-01 03:05:44.860</td>\n",
       "      <td>Core</td>\n",
       "      <td>Debito</td>\n",
       "      <td>0.0</td>\n",
       "      <td>Principal</td>\n",
       "      <td>TransferenciaEntreContas</td>\n",
       "      <td>0</td>\n",
       "      <td>ContaCorrente</td>\n",
       "      <td>818</td>\n",
       "      <td>-3.0</td>\n",
       "      <td>NaN</td>\n",
       "      <td>NaN</td>\n",
       "      <td>Transferência Da Conta Corrente Para Poupança</td>\n",
       "      <td>Aplicacao</td>\n",
       "      <td>NaN</td>\n",
       "      <td>Investimentos</td>\n",
       "      <td>NaN</td>\n",
       "      <td>NaN</td>\n",
       "      <td>NaN</td>\n",
       "    </tr>\n",
       "    <tr>\n",
       "      <th>2</th>\n",
       "      <td>2.0</td>\n",
       "      <td>2019-07-01 03:06:49.577</td>\n",
       "      <td>Core</td>\n",
       "      <td>Credito</td>\n",
       "      <td>0.0</td>\n",
       "      <td>Principal</td>\n",
       "      <td>EfetivarDebitoCredito</td>\n",
       "      <td>1</td>\n",
       "      <td>ContaCorrente</td>\n",
       "      <td>718</td>\n",
       "      <td>200.0</td>\n",
       "      <td>NaN</td>\n",
       "      <td>NaN</td>\n",
       "      <td>Transferência Entre Minhas Contas</td>\n",
       "      <td>TransferenciaMesmoCpf</td>\n",
       "      <td>NaN</td>\n",
       "      <td>Transferencias</td>\n",
       "      <td>NaN</td>\n",
       "      <td>NaN</td>\n",
       "      <td>NaN</td>\n",
       "    </tr>\n",
       "    <tr>\n",
       "      <th>3</th>\n",
       "      <td>3.0</td>\n",
       "      <td>2019-07-01 14:08:51.883</td>\n",
       "      <td>Card</td>\n",
       "      <td>Debito</td>\n",
       "      <td>0.0</td>\n",
       "      <td>Principal</td>\n",
       "      <td>CompraNacional</td>\n",
       "      <td>2</td>\n",
       "      <td>ContaCorrente</td>\n",
       "      <td>217</td>\n",
       "      <td>-50.0</td>\n",
       "      <td>1.0</td>\n",
       "      <td>-50.0</td>\n",
       "      <td>Mercadopago *moysestaxisi</td>\n",
       "      <td>AplicativoTransporte</td>\n",
       "      <td>NaN</td>\n",
       "      <td>Transporte</td>\n",
       "      <td>NaN</td>\n",
       "      <td>MERCADOPAGO *MOYSESTAXISI</td>\n",
       "      <td>4121.0</td>\n",
       "    </tr>\n",
       "    <tr>\n",
       "      <th>4</th>\n",
       "      <td>4.0</td>\n",
       "      <td>2019-07-01 03:13:30.931</td>\n",
       "      <td>Core</td>\n",
       "      <td>Credito</td>\n",
       "      <td>0.0</td>\n",
       "      <td>Principal</td>\n",
       "      <td>TransferenciaEntreContas</td>\n",
       "      <td>3</td>\n",
       "      <td>Poupanca</td>\n",
       "      <td>116</td>\n",
       "      <td>20.0</td>\n",
       "      <td>NaN</td>\n",
       "      <td>NaN</td>\n",
       "      <td>Transferência Da Conta Corrente Para Poupança</td>\n",
       "      <td>Aplicacao</td>\n",
       "      <td>NaN</td>\n",
       "      <td>Investimentos</td>\n",
       "      <td>NaN</td>\n",
       "      <td>NaN</td>\n",
       "      <td>NaN</td>\n",
       "    </tr>\n",
       "  </tbody>\n",
       "</table>\n",
       "</div>"
      ],
      "text/plain": [
       "   Unnamed: 0          eventCreateDate originSystem operation isChargeback  \\\n",
       "0         0.0  2019-07-01 03:05:44.860         Core   Credito          0.0   \n",
       "1         1.0  2019-07-01 03:05:44.860         Core    Debito          0.0   \n",
       "2         2.0  2019-07-01 03:06:49.577         Core   Credito          0.0   \n",
       "3         3.0  2019-07-01 14:08:51.883         Card    Debito          0.0   \n",
       "4         4.0  2019-07-01 03:13:30.931         Core   Credito          0.0   \n",
       "\n",
       "  operationType             operationCode userId    accountType cooperativeId  \\\n",
       "0     Principal  TransferenciaEntreContas      0       Poupanca           818   \n",
       "1     Principal  TransferenciaEntreContas      0  ContaCorrente           818   \n",
       "2     Principal     EfetivarDebitoCredito      1  ContaCorrente           718   \n",
       "3     Principal            CompraNacional      2  ContaCorrente           217   \n",
       "4     Principal  TransferenciaEntreContas      3       Poupanca           116   \n",
       "\n",
       "  amount installment installmentAmount  \\\n",
       "0    3.0         NaN               NaN   \n",
       "1   -3.0         NaN               NaN   \n",
       "2  200.0         NaN               NaN   \n",
       "3  -50.0         1.0             -50.0   \n",
       "4   20.0         NaN               NaN   \n",
       "\n",
       "                                     description               category  \\\n",
       "0  Transferência Da Conta Corrente Para Poupança              Aplicacao   \n",
       "1  Transferência Da Conta Corrente Para Poupança              Aplicacao   \n",
       "2              Transferência Entre Minhas Contas  TransferenciaMesmoCpf   \n",
       "3                      Mercadopago *moysestaxisi   AplicativoTransporte   \n",
       "4  Transferência Da Conta Corrente Para Poupança              Aplicacao   \n",
       "\n",
       "  customTransaction category.imageCode hashtag.value  \\\n",
       "0               NaN      Investimentos           NaN   \n",
       "1               NaN      Investimentos           NaN   \n",
       "2               NaN     Transferencias           NaN   \n",
       "3               NaN         Transporte           NaN   \n",
       "4               NaN      Investimentos           NaN   \n",
       "\n",
       "                   storeName cardMCC  \n",
       "0                        NaN     NaN  \n",
       "1                        NaN     NaN  \n",
       "2                        NaN     NaN  \n",
       "3  MERCADOPAGO *MOYSESTAXISI  4121.0  \n",
       "4                        NaN     NaN  "
      ]
     },
     "execution_count": 120,
     "metadata": {},
     "output_type": "execute_result"
    }
   ],
   "source": [
    "df = pd.read_csv('/Users/chriswatson/Downloads/dataGateDemo_merged.csv',low_memory=False)\n",
    "df.head(5)"
   ]
  },
  {
   "cell_type": "markdown",
   "metadata": {},
   "source": [
    "### All column names"
   ]
  },
  {
   "cell_type": "code",
   "execution_count": 121,
   "metadata": {},
   "outputs": [
    {
     "name": "stdout",
     "output_type": "stream",
     "text": [
      "['Unnamed: 0', 'eventCreateDate', 'originSystem', 'operation', 'isChargeback', 'operationType', 'operationCode', 'userId', 'accountType', 'cooperativeId', 'amount', 'installment', 'installmentAmount', 'description', 'category', 'customTransaction', 'category.imageCode', 'hashtag.value', 'storeName', 'cardMCC']\n"
     ]
    }
   ],
   "source": [
    "col_list = df.columns.tolist()\n",
    "print(col_list)"
   ]
  },
  {
   "cell_type": "markdown",
   "metadata": {},
   "source": [
    "### Most common values in each column"
   ]
  },
  {
   "cell_type": "code",
   "execution_count": 122,
   "metadata": {},
   "outputs": [
    {
     "name": "stdout",
     "output_type": "stream",
     "text": [
      "Unnamed: 0 [0.0, 247960.0, 238846.0, 161959.0, 160082.0]\n",
      "\n",
      "eventCreateDate ['2019-09-05 10:00:15.303', '2019-09-04 10:00:41.246', '2019-09-04 10:00:41.247', '2019-09-04 10:00:54.357', '2019-09-04 10:00:20.746']\n",
      "\n",
      "originSystem ['Card', 'Core', 'CORE', nan, 'originSystem']\n",
      "\n",
      "operation ['Debito', 'Credito', 'operation']\n",
      "\n",
      "isChargeback ['0.0', '1.0', nan, 'isChargeback']\n",
      "\n",
      "operationType ['Principal', 'Tarifa', 'IOF', nan, 'operationType']\n",
      "\n",
      "operationCode ['CompraNacional', 'EfetivarDebitoCredito', 'EfetivarDebitoTED', 'TransferenciaEntreContas', 'EfetivarDepositoBoleto']\n",
      "\n",
      "userId ['71', '1535', '1912', '24', '250']\n",
      "\n",
      "accountType ['ContaCorrente', 'CartaoDeCredito', 'Poupanca', 'ContaCapital', 'Dinheiro']\n",
      "\n",
      "cooperativeId ['116', '726', '718', '710', '730']\n",
      "\n",
      "amount ['-20.0', '-10.0', '20.0', '-50.0', '-100.0']\n",
      "\n",
      "installment [nan, '1.0', '2.0', '3.0', '4.0']\n",
      "\n",
      "installmentAmount [nan, '-20.0', '-10.0', '-50.0', '-30.0']\n",
      "\n",
      "description ['Depósito Por Boleto', 'Transferência Entre Minhas Contas', 'Pagamento De Boletos', 'Rendimentos Poupança', 'Transferência Da Conta Corrente Para Poupança']\n",
      "\n",
      "category ['Outros', 'OutrosRenda', 'TransferenciaMesmoCpf', 'Restaurantes', 'Mercado']\n",
      "\n",
      "customTransaction [nan, 'True', 'customTransaction']\n",
      "\n",
      "category.imageCode [nan, 'Alimentacao', 'Outros', 'Renda', 'Transferencias']\n",
      "\n",
      "hashtag.value [nan, 'Alimentacao', 'Outros', 'Renda', 'TransferenciaMesmoCpf']\n",
      "\n",
      "storeName [nan, 'Uber Do Brasil Tecnologia', 'MERCADOPAGO.COM REPRESENTACOES LTDA', 'NETFLIX.COM', 'ITUNES.COM/BILL']\n",
      "\n",
      "cardMCC [nan, '5411.0', '5814.0', '4121.0', '5541.0']\n",
      "\n"
     ]
    }
   ],
   "source": [
    "for col in col_list:\n",
    "    print(col, df[col].value_counts(dropna=False).head().index.tolist())\n",
    "    print()"
   ]
  },
  {
   "cell_type": "markdown",
   "metadata": {},
   "source": [
    "## Reduce to most important columns for readability"
   ]
  },
  {
   "cell_type": "code",
   "execution_count": 123,
   "metadata": {},
   "outputs": [
    {
     "data": {
      "text/html": [
       "<div>\n",
       "<style scoped>\n",
       "    .dataframe tbody tr th:only-of-type {\n",
       "        vertical-align: middle;\n",
       "    }\n",
       "\n",
       "    .dataframe tbody tr th {\n",
       "        vertical-align: top;\n",
       "    }\n",
       "\n",
       "    .dataframe thead th {\n",
       "        text-align: right;\n",
       "    }\n",
       "</style>\n",
       "<table border=\"1\" class=\"dataframe\">\n",
       "  <thead>\n",
       "    <tr style=\"text-align: right;\">\n",
       "      <th></th>\n",
       "      <th>userId</th>\n",
       "      <th>eventCreateDate</th>\n",
       "      <th>originSystem</th>\n",
       "      <th>operation</th>\n",
       "      <th>operationCode</th>\n",
       "      <th>accountType</th>\n",
       "      <th>amount</th>\n",
       "      <th>description</th>\n",
       "      <th>category</th>\n",
       "      <th>category.imageCode</th>\n",
       "    </tr>\n",
       "  </thead>\n",
       "  <tbody>\n",
       "    <tr>\n",
       "      <th>0</th>\n",
       "      <td>0</td>\n",
       "      <td>2019-07-01 03:05:44.860</td>\n",
       "      <td>Core</td>\n",
       "      <td>Credito</td>\n",
       "      <td>TransferenciaEntreContas</td>\n",
       "      <td>Poupanca</td>\n",
       "      <td>3.0</td>\n",
       "      <td>Transferência Da Conta Corrente Para Poupança</td>\n",
       "      <td>Aplicacao</td>\n",
       "      <td>Investimentos</td>\n",
       "    </tr>\n",
       "    <tr>\n",
       "      <th>1</th>\n",
       "      <td>0</td>\n",
       "      <td>2019-07-01 03:05:44.860</td>\n",
       "      <td>Core</td>\n",
       "      <td>Debito</td>\n",
       "      <td>TransferenciaEntreContas</td>\n",
       "      <td>ContaCorrente</td>\n",
       "      <td>-3.0</td>\n",
       "      <td>Transferência Da Conta Corrente Para Poupança</td>\n",
       "      <td>Aplicacao</td>\n",
       "      <td>Investimentos</td>\n",
       "    </tr>\n",
       "    <tr>\n",
       "      <th>2</th>\n",
       "      <td>1</td>\n",
       "      <td>2019-07-01 03:06:49.577</td>\n",
       "      <td>Core</td>\n",
       "      <td>Credito</td>\n",
       "      <td>EfetivarDebitoCredito</td>\n",
       "      <td>ContaCorrente</td>\n",
       "      <td>200.0</td>\n",
       "      <td>Transferência Entre Minhas Contas</td>\n",
       "      <td>TransferenciaMesmoCpf</td>\n",
       "      <td>Transferencias</td>\n",
       "    </tr>\n",
       "    <tr>\n",
       "      <th>3</th>\n",
       "      <td>2</td>\n",
       "      <td>2019-07-01 14:08:51.883</td>\n",
       "      <td>Card</td>\n",
       "      <td>Debito</td>\n",
       "      <td>CompraNacional</td>\n",
       "      <td>ContaCorrente</td>\n",
       "      <td>-50.0</td>\n",
       "      <td>Mercadopago *moysestaxisi</td>\n",
       "      <td>AplicativoTransporte</td>\n",
       "      <td>Transporte</td>\n",
       "    </tr>\n",
       "    <tr>\n",
       "      <th>4</th>\n",
       "      <td>3</td>\n",
       "      <td>2019-07-01 03:13:30.931</td>\n",
       "      <td>Core</td>\n",
       "      <td>Credito</td>\n",
       "      <td>TransferenciaEntreContas</td>\n",
       "      <td>Poupanca</td>\n",
       "      <td>20.0</td>\n",
       "      <td>Transferência Da Conta Corrente Para Poupança</td>\n",
       "      <td>Aplicacao</td>\n",
       "      <td>Investimentos</td>\n",
       "    </tr>\n",
       "  </tbody>\n",
       "</table>\n",
       "</div>"
      ],
      "text/plain": [
       "  userId          eventCreateDate originSystem operation  \\\n",
       "0      0  2019-07-01 03:05:44.860         Core   Credito   \n",
       "1      0  2019-07-01 03:05:44.860         Core    Debito   \n",
       "2      1  2019-07-01 03:06:49.577         Core   Credito   \n",
       "3      2  2019-07-01 14:08:51.883         Card    Debito   \n",
       "4      3  2019-07-01 03:13:30.931         Core   Credito   \n",
       "\n",
       "              operationCode    accountType amount  \\\n",
       "0  TransferenciaEntreContas       Poupanca    3.0   \n",
       "1  TransferenciaEntreContas  ContaCorrente   -3.0   \n",
       "2     EfetivarDebitoCredito  ContaCorrente  200.0   \n",
       "3            CompraNacional  ContaCorrente  -50.0   \n",
       "4  TransferenciaEntreContas       Poupanca   20.0   \n",
       "\n",
       "                                     description               category  \\\n",
       "0  Transferência Da Conta Corrente Para Poupança              Aplicacao   \n",
       "1  Transferência Da Conta Corrente Para Poupança              Aplicacao   \n",
       "2              Transferência Entre Minhas Contas  TransferenciaMesmoCpf   \n",
       "3                      Mercadopago *moysestaxisi   AplicativoTransporte   \n",
       "4  Transferência Da Conta Corrente Para Poupança              Aplicacao   \n",
       "\n",
       "  category.imageCode  \n",
       "0      Investimentos  \n",
       "1      Investimentos  \n",
       "2     Transferencias  \n",
       "3         Transporte  \n",
       "4      Investimentos  "
      ]
     },
     "execution_count": 123,
     "metadata": {},
     "output_type": "execute_result"
    }
   ],
   "source": [
    "df = df[['userId', 'eventCreateDate', 'originSystem', 'operation', 'operationCode', 'accountType', 'amount', 'description', 'category', 'category.imageCode']]\n",
    "df.head()"
   ]
  },
  {
   "cell_type": "markdown",
   "metadata": {},
   "source": [
    "## Tidy up data"
   ]
  },
  {
   "cell_type": "markdown",
   "metadata": {},
   "source": [
    "To do list:\n",
    "\n",
    "- 'Unnamed: 0',         DROP\n",
    "- 'eventCreateDate',                                  ???\n",
    "- 'originSystem',           CORE -> Core   No xlate. Dropped value 'originSystem' & NaN\n",
    "- 'operation',                             Xlated.   Dropped value 'operation'\n",
    "- 'isChargeback',       DROP\n",
    "- 'operationType',      DROP\n",
    "- 'operationCode',       \n",
    "- 'userId',       \n",
    "- 'accountType',                           Xlated 3. Dropped all other values\n",
    "- 'cooperativeId',      DROP\n",
    "- 'amount',                      Convert string to float\n",
    "- 'installment',        DROP\n",
    "- 'installmentAmount',  DROP\n",
    "- 'description',       \n",
    "- 'category',       \n",
    "- 'customTransaction',  DROP\n",
    "- 'category.imageCode',       \n",
    "- 'hashtag.value',      DROP\n",
    "- 'storeName',          DROP\n",
    "- 'cardMCC'             DROP"
   ]
  },
  {
   "cell_type": "markdown",
   "metadata": {},
   "source": [
    "### --- Before ---"
   ]
  },
  {
   "cell_type": "code",
   "execution_count": 124,
   "metadata": {},
   "outputs": [
    {
     "name": "stdout",
     "output_type": "stream",
     "text": [
      "originSystem: ['Card', 'Core', 'CORE', 'originSystem']\n"
     ]
    }
   ],
   "source": [
    "print('originSystem:',df.originSystem.value_counts().head().index.tolist())"
   ]
  },
  {
   "cell_type": "code",
   "execution_count": 125,
   "metadata": {},
   "outputs": [
    {
     "name": "stdout",
     "output_type": "stream",
     "text": [
      "operation: ['Debito', 'Credito', 'operation']\n"
     ]
    }
   ],
   "source": [
    "print('operation:',df.operation.value_counts().head().index.tolist())"
   ]
  },
  {
   "cell_type": "code",
   "execution_count": 126,
   "metadata": {},
   "outputs": [
    {
     "name": "stdout",
     "output_type": "stream",
     "text": [
      "accountType: ['ContaCorrente', 'CartaoDeCredito', 'Poupanca', 'ContaCapital', 'Dinheiro']\n"
     ]
    }
   ],
   "source": [
    "print('accountType:',df.accountType.value_counts().head().index.tolist())"
   ]
  },
  {
   "cell_type": "markdown",
   "metadata": {},
   "source": [
    "### Convert amount from string to float"
   ]
  },
  {
   "cell_type": "code",
   "execution_count": 127,
   "metadata": {},
   "outputs": [
    {
     "data": {
      "text/plain": [
       "0      3.0\n",
       "1     -3.0\n",
       "2    200.0\n",
       "3    -50.0\n",
       "4     20.0\n",
       "Name: amount, dtype: float64"
      ]
     },
     "execution_count": 127,
     "metadata": {},
     "output_type": "execute_result"
    }
   ],
   "source": [
    "df.amount = pd.to_numeric(df.amount, errors='coerce')\n",
    "df.amount.head()"
   ]
  },
  {
   "cell_type": "markdown",
   "metadata": {},
   "source": [
    "### Translate"
   ]
  },
  {
   "cell_type": "markdown",
   "metadata": {},
   "source": [
    "#### Operation"
   ]
  },
  {
   "cell_type": "code",
   "execution_count": 128,
   "metadata": {},
   "outputs": [],
   "source": [
    "df.operation = df.operation.replace(['Debito','Credito'],['Debit','Credit'])"
   ]
  },
  {
   "cell_type": "markdown",
   "metadata": {},
   "source": [
    "#### Account Type"
   ]
  },
  {
   "cell_type": "code",
   "execution_count": 129,
   "metadata": {},
   "outputs": [],
   "source": [
    "accountTypes_English = ['CurrentAccount', 'CreditCard', 'SavingsAccount']\n",
    "df.accountType = df.accountType.replace(['ContaCorrente', 'CartaoDeCredito', 'Poupanca'],accountTypes_English)"
   ]
  },
  {
   "cell_type": "markdown",
   "metadata": {},
   "source": [
    "#### Category"
   ]
  },
  {
   "cell_type": "code",
   "execution_count": 130,
   "metadata": {},
   "outputs": [],
   "source": [
    "df.category = df.category.replace(['Outros','OutrosRenda','TransferenciaMesmoCpf','Restaurantes','Mercado','Conveniencia','AplicativoTransporte','PagamentoCredito','Rendimentos','Aplicacao',  'Saques',     'TelefoneTvInternet','Resgate   ','Farmacia','OutrosVestuario','CafesPadarias','OutrosMoradia','Tarifas','EletronicosMoveis','CuidadosPessoais','OutrosTarifasTaxasFinanceiras','Estacionamento','RecargaCelular'     ,'Hospedagem'],\n",
    "                                  ['Other', 'OtherIncome','TaxTransfer',          'Restaurant',  'Market', 'Convenience', 'TransportApp',        'CreditPayment',   'Interest',   'Application','Withdrawals','TelefoneTvInternet','Redemption', 'Pharmacy','Other Clothing', 'CafesBakeries','OtherHousing', 'Rates',  'MobileElectronics','PersonalCare'    ,'OtherFinancialRateFees'       ,'Parking'       ,'MobilePhoneRecharge','Accommodation'])"
   ]
  },
  {
   "cell_type": "markdown",
   "metadata": {},
   "source": [
    "#### Operation Code"
   ]
  },
  {
   "cell_type": "code",
   "execution_count": 131,
   "metadata": {},
   "outputs": [],
   "source": [
    "df.operationCode = df.operationCode.replace(['CompraNacional',   'EfetivarDebitoCredito', 'EfetivarDebitoTED',   'TransferenciaEntreContas', 'EfetivarDepositoBoleto', 'EfetivarCreditoTED',   'EfetivarPagamentoCobranca', 'RendimentoPoupanca', 'LiquidacaoCredito', 'EfetivarSaque', 'EfetivarPagamentoConvenios', 'SaqueNacionalTecban', 'EfetivarRecargaCelular', 'EfetivarPagamentoCapital', 'CobrancaCesta', 'EfetivarLancamentoEmConta', 'ContratacaoEmprestimo', 'CompraInternacional',   'EfetivarDomicilioBancario', 'EfetivarLancamentoAvulsoCartao'],\n",
    "                                            ['NationalPurchase', 'DebitCredit',           'DebitElectronicXfer', 'TransferBetweenAccounts',  'BankDeposit',            'CreditElectronicXfer', 'PaymentCollection',         'SavingsInterest',    'CreditClearance',   'Withdrawal',    'PaymentAgreement',           'NationalWithdrawal',  'PrepaidMobileRecharge',  'CapitalPayment',           'Collection',    'OpenAccount',               'HireLoan',              'InternationalPurchase', 'DomicileBank',              'CardPayment'])"
   ]
  },
  {
   "cell_type": "markdown",
   "metadata": {},
   "source": [
    "### Inconsistencies"
   ]
  },
  {
   "cell_type": "code",
   "execution_count": 132,
   "metadata": {},
   "outputs": [],
   "source": [
    "df.originSystem = df.originSystem.replace(['CORE'],'Core')"
   ]
  },
  {
   "cell_type": "markdown",
   "metadata": {},
   "source": [
    "### Remove rows with empty or bad values "
   ]
  },
  {
   "cell_type": "code",
   "execution_count": 133,
   "metadata": {},
   "outputs": [],
   "source": [
    "df = df[df.originSystem != 'originSystem']\n",
    "df = df.dropna(subset=['originSystem'])\n",
    "df = df[df.operation != 'operation']\n",
    "df = df[df.accountType.isin(accountTypes_English)]\n",
    "#for col in df.columns:\n",
    "#    print(col)\n",
    "#    print(df[df[col].isna()].head(10))\n",
    "#    print()"
   ]
  },
  {
   "cell_type": "markdown",
   "metadata": {},
   "source": [
    "### Update dates to 2020\n",
    "#### Verify all from 2019"
   ]
  },
  {
   "cell_type": "code",
   "execution_count": 178,
   "metadata": {},
   "outputs": [
    {
     "name": "stdout",
     "output_type": "stream",
     "text": [
      "Min =  2020-07-01 09:58:27.751 , Max =  2020-11-02 05:05:13.718\n"
     ]
    }
   ],
   "source": [
    "print(\"Min = \",df.eventCreateDate.min(),\", Max = \", df.eventCreateDate.max())"
   ]
  },
  {
   "cell_type": "markdown",
   "metadata": {},
   "source": [
    "So all values are from 2019\n",
    "#### Change all values to 2020"
   ]
  },
  {
   "cell_type": "code",
   "execution_count": 181,
   "metadata": {},
   "outputs": [],
   "source": [
    "df.eventCreateDate = df.eventCreateDate.str.replace('2019', '2020')"
   ]
  },
  {
   "cell_type": "code",
   "execution_count": 180,
   "metadata": {},
   "outputs": [
    {
     "name": "stdout",
     "output_type": "stream",
     "text": [
      "Min =  2020-07-01 09:58:27.751 , Max =  2020-11-02 05:05:13.718\n"
     ]
    }
   ],
   "source": [
    "print(\"Min = \",df.eventCreateDate.min(),\", Max = \", df.eventCreateDate.max())"
   ]
  },
  {
   "cell_type": "markdown",
   "metadata": {},
   "source": [
    "### --- After --- Updated column values ..."
   ]
  },
  {
   "cell_type": "code",
   "execution_count": 134,
   "metadata": {},
   "outputs": [
    {
     "name": "stdout",
     "output_type": "stream",
     "text": [
      "originSystem: ['Core', 'Card']\n"
     ]
    }
   ],
   "source": [
    "print('originSystem:',df.originSystem.value_counts(dropna=False).head().index.tolist())"
   ]
  },
  {
   "cell_type": "code",
   "execution_count": 135,
   "metadata": {},
   "outputs": [
    {
     "name": "stdout",
     "output_type": "stream",
     "text": [
      "operation: ['Debit', 'Credit']\n"
     ]
    }
   ],
   "source": [
    "print('operation:',df.operation.value_counts(dropna=False).head().index.tolist())"
   ]
  },
  {
   "cell_type": "code",
   "execution_count": 136,
   "metadata": {},
   "outputs": [
    {
     "name": "stdout",
     "output_type": "stream",
     "text": [
      "accountType: ['CurrentAccount', 'CreditCard', 'SavingsAccount']\n"
     ]
    }
   ],
   "source": [
    "print('accountType:',df.accountType.value_counts(dropna=False).head().index.tolist())"
   ]
  },
  {
   "cell_type": "code",
   "execution_count": 137,
   "metadata": {},
   "outputs": [
    {
     "name": "stdout",
     "output_type": "stream",
     "text": [
      "operationCode \n",
      " ['NationalPurchase', 'DebitCredit', 'DebitElectronicXfer', 'TransferBetweenAccounts', 'BankDeposit', 'CreditElectronicXfer', 'PaymentCollection', 'SavingsInterest', 'CreditClearance', 'Withdrawal', 'PaymentAgreement', 'NationalWithdrawal', 'PrepaidMobileRecharge', 'CapitalPayment', 'Collection', 'OpenAccount', 'HireLoan', 'InternationalPurchase', 'DomicileBank', 'CardPayment']\n",
      "\n",
      "category \n",
      " ['Other', 'OtherIncome', 'TaxTransfer', 'Restaurant', 'Market', 'Convenience', 'TransportApp', 'CreditPayment', 'Interest', 'Application', 'Withdrawals', 'TelefoneTvInternet', 'Resgate', 'Pharmacy', 'Other Clothing', 'CafesBakeries', 'OtherHousing', 'Rates', 'MobileElectronics', 'PersonalCare']\n",
      "\n",
      "category.imageCode \n",
      " [nan, 'Alimentacao', 'Outros', 'Renda', 'Transferencias', 'Investimentos', 'Moradia', 'Transporte', 'Emprestimos', 'SaudeBemEstar', 'TarifasTaxasFinanceiras', 'Vestuario', 'LazerDiversao', 'NegocioProprio', '[]', 'Educacao', 'ProgramaFidelidade', 'PresentesDoacoes', 'AnimaisEstimacao', \"['SemanaFarroupilha']\"]\n",
      "\n"
     ]
    }
   ],
   "source": [
    "for col in ['operationCode','category','category.imageCode']:\n",
    "    print(col,'\\n',df[col].value_counts(dropna=False).head(20).index.tolist())\n",
    "    print()"
   ]
  },
  {
   "cell_type": "markdown",
   "metadata": {},
   "source": [
    "## Further analysis"
   ]
  },
  {
   "cell_type": "markdown",
   "metadata": {},
   "source": [
    "### Number of unique users"
   ]
  },
  {
   "cell_type": "code",
   "execution_count": 138,
   "metadata": {},
   "outputs": [
    {
     "data": {
      "text/plain": [
       "35518"
      ]
     },
     "execution_count": 138,
     "metadata": {},
     "output_type": "execute_result"
    }
   ],
   "source": [
    "df.userId.nunique()"
   ]
  },
  {
   "cell_type": "markdown",
   "metadata": {},
   "source": [
    "### Which users have the most entries?"
   ]
  },
  {
   "cell_type": "code",
   "execution_count": 139,
   "metadata": {},
   "outputs": [
    {
     "data": {
      "text/html": [
       "<div>\n",
       "<style scoped>\n",
       "    .dataframe tbody tr th:only-of-type {\n",
       "        vertical-align: middle;\n",
       "    }\n",
       "\n",
       "    .dataframe tbody tr th {\n",
       "        vertical-align: top;\n",
       "    }\n",
       "\n",
       "    .dataframe thead th {\n",
       "        text-align: right;\n",
       "    }\n",
       "</style>\n",
       "<table border=\"1\" class=\"dataframe\">\n",
       "  <thead>\n",
       "    <tr style=\"text-align: right;\">\n",
       "      <th></th>\n",
       "      <th>userId</th>\n",
       "      <th>count</th>\n",
       "    </tr>\n",
       "  </thead>\n",
       "  <tbody>\n",
       "    <tr>\n",
       "      <th>0</th>\n",
       "      <td>71</td>\n",
       "      <td>5831</td>\n",
       "    </tr>\n",
       "    <tr>\n",
       "      <th>1</th>\n",
       "      <td>1535</td>\n",
       "      <td>1015</td>\n",
       "    </tr>\n",
       "    <tr>\n",
       "      <th>2</th>\n",
       "      <td>1912</td>\n",
       "      <td>858</td>\n",
       "    </tr>\n",
       "    <tr>\n",
       "      <th>3</th>\n",
       "      <td>24</td>\n",
       "      <td>753</td>\n",
       "    </tr>\n",
       "    <tr>\n",
       "      <th>4</th>\n",
       "      <td>250</td>\n",
       "      <td>734</td>\n",
       "    </tr>\n",
       "    <tr>\n",
       "      <th>5</th>\n",
       "      <td>2140</td>\n",
       "      <td>705</td>\n",
       "    </tr>\n",
       "    <tr>\n",
       "      <th>6</th>\n",
       "      <td>79</td>\n",
       "      <td>702</td>\n",
       "    </tr>\n",
       "    <tr>\n",
       "      <th>7</th>\n",
       "      <td>12761</td>\n",
       "      <td>670</td>\n",
       "    </tr>\n",
       "    <tr>\n",
       "      <th>8</th>\n",
       "      <td>5800</td>\n",
       "      <td>642</td>\n",
       "    </tr>\n",
       "    <tr>\n",
       "      <th>9</th>\n",
       "      <td>3751</td>\n",
       "      <td>638</td>\n",
       "    </tr>\n",
       "  </tbody>\n",
       "</table>\n",
       "</div>"
      ],
      "text/plain": [
       "  userId  count\n",
       "0     71   5831\n",
       "1   1535   1015\n",
       "2   1912    858\n",
       "3     24    753\n",
       "4    250    734\n",
       "5   2140    705\n",
       "6     79    702\n",
       "7  12761    670\n",
       "8   5800    642\n",
       "9   3751    638"
      ]
     },
     "execution_count": 139,
     "metadata": {},
     "output_type": "execute_result"
    }
   ],
   "source": [
    "userIds = df.userId.value_counts().reset_index()\n",
    "userIds.columns = ['userId', 'count']\n",
    "userIds.head(10)"
   ]
  },
  {
   "cell_type": "markdown",
   "metadata": {},
   "source": [
    "### Number of unique category values and list of the most common"
   ]
  },
  {
   "cell_type": "code",
   "execution_count": 140,
   "metadata": {},
   "outputs": [
    {
     "data": {
      "text/plain": [
       "57"
      ]
     },
     "execution_count": 140,
     "metadata": {},
     "output_type": "execute_result"
    }
   ],
   "source": [
    "df.category.nunique()"
   ]
  },
  {
   "cell_type": "code",
   "execution_count": 141,
   "metadata": {},
   "outputs": [
    {
     "name": "stdout",
     "output_type": "stream",
     "text": [
      "Other            232332\n",
      "OtherIncome      144435\n",
      "TaxTransfer      142077\n",
      "Restaurant       119249\n",
      "Market            95407\n",
      "Convenience       53120\n",
      "TransportApp      50968\n",
      "CreditPayment     40871\n",
      "Interest          37332\n",
      "Application       31212\n",
      "Name: category, dtype: int64\n"
     ]
    }
   ],
   "source": [
    "print(df.category.value_counts().head(10))"
   ]
  },
  {
   "cell_type": "markdown",
   "metadata": {},
   "source": [
    "### All users - Operations"
   ]
  },
  {
   "cell_type": "code",
   "execution_count": 142,
   "metadata": {},
   "outputs": [
    {
     "data": {
      "image/png": "[encoded data removed]",
      "text/plain": [
       "<Figure size 432x288 with 1 Axes>"
      ]
     },
     "metadata": {
      "needs_background": "light"
     },
     "output_type": "display_data"
    }
   ],
   "source": [
    "df.operation.value_counts().plot.bar();"
   ]
  },
  {
   "cell_type": "markdown",
   "metadata": {},
   "source": [
    "### All users - Account Type"
   ]
  },
  {
   "cell_type": "code",
   "execution_count": 143,
   "metadata": {},
   "outputs": [
    {
     "data": {
      "image/png": "[encoded data removed]",
      "text/plain": [
       "<Figure size 432x288 with 1 Axes>"
      ]
     },
     "metadata": {
      "needs_background": "light"
     },
     "output_type": "display_data"
    }
   ],
   "source": [
    "df.accountType.value_counts().plot.bar();"
   ]
  },
  {
   "cell_type": "markdown",
   "metadata": {},
   "source": [
    "### Top 15 transaction categories"
   ]
  },
  {
   "cell_type": "code",
   "execution_count": 144,
   "metadata": {},
   "outputs": [
    {
     "data": {
      "image/png": "[encoded data removed]",
      "text/plain": [
       "<Figure size 432x288 with 1 Axes>"
      ]
     },
     "metadata": {
      "needs_background": "light"
     },
     "output_type": "display_data"
    }
   ],
   "source": [
    "df.category.value_counts().head(15).plot.bar();"
   ]
  },
  {
   "cell_type": "markdown",
   "metadata": {},
   "source": [
    "## Which 12 users are possibly the \"most interesting\"?\n",
    "Rules:\n",
    "Find users with many transactions and transactional types in different types of account"
   ]
  },
  {
   "cell_type": "markdown",
   "metadata": {},
   "source": [
    "### Which are the top 3 account types based on #transactions?"
   ]
  },
  {
   "cell_type": "code",
   "execution_count": 145,
   "metadata": {},
   "outputs": [
    {
     "name": "stdout",
     "output_type": "stream",
     "text": [
      "['CurrentAccount', 'CreditCard', 'SavingsAccount']\n"
     ]
    }
   ],
   "source": [
    "at_list = df.accountType.value_counts().head(3).index.tolist()\n",
    "print(at_list)"
   ]
  },
  {
   "cell_type": "markdown",
   "metadata": {},
   "source": [
    "### For each account type find the 10 users with largest number of transactions\n",
    "#### ...   and for each group the 4 with most transactional types (independent of account type)"
   ]
  },
  {
   "cell_type": "code",
   "execution_count": 146,
   "metadata": {},
   "outputs": [
    {
     "name": "stdout",
     "output_type": "stream",
     "text": [
      "[['2140', '12761', '1471', '5800'], ['1103', '18615', '1833', '14156'], ['250', '27344', '14140', '12155']]\n"
     ]
    }
   ],
   "source": [
    "interestingUserList=[]\n",
    "for at in at_list:\n",
    "\n",
    "    # Find the 10 users with largest number of transactions for this account type \n",
    "    userList = df[df.accountType == at].userId.value_counts().head(10).index.tolist()\n",
    "\n",
    "    # Find the top 4 subset of these users with the most transactional types  \n",
    "    iUL = df[df.userId.isin(userList)].groupby('userId').category.nunique().sort_values(ascending=False).head(4).index.tolist()\n",
    "    interestingUserList.append(iUL)\n",
    "\n",
    "print(interestingUserList)"
   ]
  },
  {
   "cell_type": "markdown",
   "metadata": {},
   "source": [
    "## Let's combine users and then take a look ..."
   ]
  },
  {
   "cell_type": "code",
   "execution_count": 147,
   "metadata": {},
   "outputs": [
    {
     "name": "stdout",
     "output_type": "stream",
     "text": [
      "Rows:  1249665\n"
     ]
    }
   ],
   "source": [
    "print(\"Rows: \",len(df))"
   ]
  },
  {
   "cell_type": "markdown",
   "metadata": {},
   "source": [
    "#### Only leave rows involving user entries in interestingUserList"
   ]
  },
  {
   "cell_type": "code",
   "execution_count": 148,
   "metadata": {},
   "outputs": [
    {
     "name": "stdout",
     "output_type": "stream",
     "text": [
      "Rows:  5508\n"
     ]
    }
   ],
   "source": [
    "df = df[df.userId.isin([item for sublist in interestingUserList for item in sublist])]\n",
    "print(\"Rows: \",len(df))"
   ]
  },
  {
   "cell_type": "markdown",
   "metadata": {},
   "source": [
    "#### Aggregate users. New ids = 99990, 99991, 99992, 99993 "
   ]
  },
  {
   "cell_type": "code",
   "execution_count": 149,
   "metadata": {},
   "outputs": [
    {
     "name": "stdout",
     "output_type": "stream",
     "text": [
      "['2140', '1103', '250'] => 99990\n",
      "['12761', '18615', '27344'] => 99991\n",
      "['1471', '1833', '14140'] => 99992\n",
      "['5800', '14156', '12155'] => 99993\n"
     ]
    }
   ],
   "source": [
    "for grp in 0,1,2,3:\n",
    "    ul = [el[grp] for el in interestingUserList]\n",
    "    print(ul,'=>','9999'+str(grp))\n",
    "    df.userId = df.userId.replace(ul,'9999'+str(grp))\n",
    "#df.head()"
   ]
  },
  {
   "cell_type": "markdown",
   "metadata": {},
   "source": [
    "### Number of unique users"
   ]
  },
  {
   "cell_type": "code",
   "execution_count": 150,
   "metadata": {},
   "outputs": [
    {
     "data": {
      "text/plain": [
       "4"
      ]
     },
     "execution_count": 150,
     "metadata": {},
     "output_type": "execute_result"
    }
   ],
   "source": [
    "df.userId.nunique()"
   ]
  },
  {
   "cell_type": "markdown",
   "metadata": {},
   "source": [
    "### Which users have the most entries?"
   ]
  },
  {
   "cell_type": "code",
   "execution_count": 151,
   "metadata": {},
   "outputs": [
    {
     "data": {
      "text/html": [
       "<div>\n",
       "<style scoped>\n",
       "    .dataframe tbody tr th:only-of-type {\n",
       "        vertical-align: middle;\n",
       "    }\n",
       "\n",
       "    .dataframe tbody tr th {\n",
       "        vertical-align: top;\n",
       "    }\n",
       "\n",
       "    .dataframe thead th {\n",
       "        text-align: right;\n",
       "    }\n",
       "</style>\n",
       "<table border=\"1\" class=\"dataframe\">\n",
       "  <thead>\n",
       "    <tr style=\"text-align: right;\">\n",
       "      <th></th>\n",
       "      <th>userId</th>\n",
       "      <th>count</th>\n",
       "    </tr>\n",
       "  </thead>\n",
       "  <tbody>\n",
       "    <tr>\n",
       "      <th>0</th>\n",
       "      <td>99990</td>\n",
       "      <td>1848</td>\n",
       "    </tr>\n",
       "    <tr>\n",
       "      <th>1</th>\n",
       "      <td>99992</td>\n",
       "      <td>1275</td>\n",
       "    </tr>\n",
       "    <tr>\n",
       "      <th>2</th>\n",
       "      <td>99991</td>\n",
       "      <td>1210</td>\n",
       "    </tr>\n",
       "    <tr>\n",
       "      <th>3</th>\n",
       "      <td>99993</td>\n",
       "      <td>1175</td>\n",
       "    </tr>\n",
       "  </tbody>\n",
       "</table>\n",
       "</div>"
      ],
      "text/plain": [
       "  userId  count\n",
       "0  99990   1848\n",
       "1  99992   1275\n",
       "2  99991   1210\n",
       "3  99993   1175"
      ]
     },
     "execution_count": 151,
     "metadata": {},
     "output_type": "execute_result"
    }
   ],
   "source": [
    "userIds = df.userId.value_counts().reset_index()\n",
    "userIds.columns = ['userId', 'count']\n",
    "userIds"
   ]
  },
  {
   "cell_type": "markdown",
   "metadata": {},
   "source": [
    "### Most common values in each column"
   ]
  },
  {
   "cell_type": "code",
   "execution_count": 152,
   "metadata": {},
   "outputs": [
    {
     "name": "stdout",
     "output_type": "stream",
     "text": [
      "userId ['99990', '99992', '99991', '99993']\n",
      "\n",
      "eventCreateDate ['2019-09-02 17:06:55.644', '2019-09-03 19:21:13.527', '2019-09-04 19:23:15.373', '2019-08-07 12:44:16.301', '2019-09-17 16:30:20.666', '2019-09-03 19:27:55.731', '2019-09-03 19:24:32.566', '2019-10-15 19:07:48.046', '2019-09-02 11:34:52.666', '2019-09-02 15:26:10.010']\n",
      "\n",
      "originSystem ['Card', 'Core']\n",
      "\n",
      "operation ['Debit', 'Credit']\n",
      "\n",
      "operationCode ['NationalPurchase', 'DebitElectronicXfer', 'TransferBetweenAccounts', 'CardPayment', 'CreditElectronicXfer', 'DebitCredit', 'Withdrawal', 'PaymentCollection', 'BankDeposit', 'SavingsInterest']\n",
      "\n",
      "accountType ['CurrentAccount', 'SavingsAccount', 'CreditCard']\n",
      "\n",
      "amount [-500.0, -50.0, -100.0, -30.0, -1000.0, -200.0, -20.0, -10.0, -15.0, -2.0]\n",
      "\n",
      "description ['Uber Do Brasil Tecnologia', 'Transferência Ted Para Salvador Medeiros Cardoso Filho', 'Transferência Da Poupança Para Conta Corrente', 'Transferência Da Conta Corrente Para Poupança', 'Pagamento De Boletos', 'Depósito Por Boleto', 'Estorno Uber Do Brasil Tecnologia', 'Saque Poupança', 'Rendimentos Poupança', 'Pag*panificadoratresi']\n",
      "\n",
      "category ['Other', 'TransportApp', 'Restaurant', 'Resgate', 'OtherIncome', 'TaxTransfer', 'Market', 'Convenience', 'Withdrawals', 'CafesBakeries']\n",
      "\n",
      "category.imageCode [nan, 'Alimentacao', 'Outros', 'Investimentos', 'Renda', 'Transporte', 'Transferencias', 'Moradia', 'TarifasTaxasFinanceiras', 'LazerDiversao']\n",
      "\n"
     ]
    }
   ],
   "source": [
    "col_list = df.columns.tolist()\n",
    "for col in col_list:\n",
    "    print(col, df[col].value_counts(dropna=False).head(10).index.tolist())\n",
    "    print()"
   ]
  },
  {
   "cell_type": "markdown",
   "metadata": {},
   "source": [
    "### Number of unique category values"
   ]
  },
  {
   "cell_type": "code",
   "execution_count": 153,
   "metadata": {},
   "outputs": [
    {
     "data": {
      "text/plain": [
       "42"
      ]
     },
     "execution_count": 153,
     "metadata": {},
     "output_type": "execute_result"
    }
   ],
   "source": [
    "df.category.nunique()"
   ]
  },
  {
   "cell_type": "markdown",
   "metadata": {},
   "source": [
    "### Merged users - Operations"
   ]
  },
  {
   "cell_type": "code",
   "execution_count": 154,
   "metadata": {},
   "outputs": [
    {
     "data": {
      "image/png": "[encoded data removed]",
      "text/plain": [
       "<Figure size 432x288 with 1 Axes>"
      ]
     },
     "metadata": {
      "needs_background": "light"
     },
     "output_type": "display_data"
    }
   ],
   "source": [
    "df.operation.value_counts().plot.bar();"
   ]
  },
  {
   "cell_type": "markdown",
   "metadata": {},
   "source": [
    "### Merged users - Account Type"
   ]
  },
  {
   "cell_type": "code",
   "execution_count": 155,
   "metadata": {},
   "outputs": [
    {
     "data": {
      "image/png": "[encoded data removed]",
      "text/plain": [
       "<Figure size 432x288 with 1 Axes>"
      ]
     },
     "metadata": {
      "needs_background": "light"
     },
     "output_type": "display_data"
    }
   ],
   "source": [
    "df.accountType.value_counts().plot.bar();"
   ]
  },
  {
   "cell_type": "markdown",
   "metadata": {},
   "source": [
    "### Merged users - Top 15 transaction categories"
   ]
  },
  {
   "cell_type": "code",
   "execution_count": 156,
   "metadata": {},
   "outputs": [
    {
     "data": {
      "image/png": "[encoded data removed]",
      "text/plain": [
       "<Figure size 432x288 with 1 Axes>"
      ]
     },
     "metadata": {
      "needs_background": "light"
     },
     "output_type": "display_data"
    }
   ],
   "source": [
    "df.category.value_counts().head(15).plot.bar();"
   ]
  },
  {
   "cell_type": "markdown",
   "metadata": {},
   "source": [
    "### Merged users - Transaction amount (bucketed and log scale)"
   ]
  },
  {
   "cell_type": "code",
   "execution_count": 157,
   "metadata": {},
   "outputs": [
    {
     "data": {
      "image/png": "[encoded data removed]",
      "text/plain": [
       "<Figure size 432x288 with 1 Axes>"
      ]
     },
     "metadata": {
      "needs_background": "light"
     },
     "output_type": "display_data"
    }
   ],
   "source": [
    "df.amount.plot(kind='hist',bins=50,logy=True);"
   ]
  },
  {
   "cell_type": "markdown",
   "metadata": {},
   "source": [
    "#### Let's remove the outliers >20000 or <-20000"
   ]
  },
  {
   "cell_type": "code",
   "execution_count": 158,
   "metadata": {},
   "outputs": [
    {
     "name": "stdout",
     "output_type": "stream",
     "text": [
      "Rows =  5508\n"
     ]
    }
   ],
   "source": [
    "print(\"Rows = \",len(df))"
   ]
  },
  {
   "cell_type": "code",
   "execution_count": 159,
   "metadata": {},
   "outputs": [],
   "source": [
    "df = df[abs(df.amount) < 20000]"
   ]
  },
  {
   "cell_type": "code",
   "execution_count": 160,
   "metadata": {},
   "outputs": [
    {
     "name": "stdout",
     "output_type": "stream",
     "text": [
      "Rows =  5494\n"
     ]
    }
   ],
   "source": [
    "print(\"Rows = \",len(df))"
   ]
  },
  {
   "cell_type": "code",
   "execution_count": 161,
   "metadata": {},
   "outputs": [
    {
     "data": {
      "image/png": "[encoded data removed]",
      "text/plain": [
       "<Figure size 432x288 with 1 Axes>"
      ]
     },
     "metadata": {
      "needs_background": "light"
     },
     "output_type": "display_data"
    }
   ],
   "source": [
    "df.amount.plot(kind='hist',bins=50,logy=True);"
   ]
  },
  {
   "cell_type": "markdown",
   "metadata": {},
   "source": [
    "### Who spends the most?"
   ]
  },
  {
   "cell_type": "markdown",
   "metadata": {},
   "source": [
    "#### Sum of all credits and debits per user "
   ]
  },
  {
   "cell_type": "code",
   "execution_count": 183,
   "metadata": {},
   "outputs": [
    {
     "data": {
      "text/html": [
       "<div>\n",
       "<style scoped>\n",
       "    .dataframe tbody tr th:only-of-type {\n",
       "        vertical-align: middle;\n",
       "    }\n",
       "\n",
       "    .dataframe tbody tr th {\n",
       "        vertical-align: top;\n",
       "    }\n",
       "\n",
       "    .dataframe thead th {\n",
       "        text-align: right;\n",
       "    }\n",
       "</style>\n",
       "<table border=\"1\" class=\"dataframe\">\n",
       "  <thead>\n",
       "    <tr style=\"text-align: right;\">\n",
       "      <th></th>\n",
       "      <th>userId</th>\n",
       "      <th>amount</th>\n",
       "    </tr>\n",
       "  </thead>\n",
       "  <tbody>\n",
       "    <tr>\n",
       "      <th>287</th>\n",
       "      <td>99990</td>\n",
       "      <td>0.05</td>\n",
       "    </tr>\n",
       "    <tr>\n",
       "      <th>1352</th>\n",
       "      <td>99990</td>\n",
       "      <td>2.00</td>\n",
       "    </tr>\n",
       "    <tr>\n",
       "      <th>1382</th>\n",
       "      <td>99990</td>\n",
       "      <td>56.37</td>\n",
       "    </tr>\n",
       "    <tr>\n",
       "      <th>1966</th>\n",
       "      <td>99992</td>\n",
       "      <td>-37.10</td>\n",
       "    </tr>\n",
       "    <tr>\n",
       "      <th>2670</th>\n",
       "      <td>99992</td>\n",
       "      <td>-50.00</td>\n",
       "    </tr>\n",
       "  </tbody>\n",
       "</table>\n",
       "</div>"
      ],
      "text/plain": [
       "     userId  amount\n",
       "287   99990    0.05\n",
       "1352  99990    2.00\n",
       "1382  99990   56.37\n",
       "1966  99992  -37.10\n",
       "2670  99992  -50.00"
      ]
     },
     "execution_count": 183,
     "metadata": {},
     "output_type": "execute_result"
    }
   ],
   "source": [
    "df[['userId','amount']].head()"
   ]
  },
  {
   "cell_type": "code",
   "execution_count": 186,
   "metadata": {},
   "outputs": [],
   "source": [
    "#df[['userId','amount']].gt(0)"
   ]
  },
  {
   "cell_type": "code",
   "execution_count": null,
   "metadata": {},
   "outputs": [],
   "source": []
  },
  {
   "cell_type": "code",
   "execution_count": 163,
   "metadata": {},
   "outputs": [],
   "source": [
    "#### Largest single payments"
   ]
  },
  {
   "cell_type": "markdown",
   "metadata": {},
   "source": []
  },
  {
   "cell_type": "markdown",
   "metadata": {},
   "source": [
    "### Remove transactions to make only 2 more needed to make it the 2nd lowest"
   ]
  },
  {
   "cell_type": "code",
   "execution_count": 167,
   "metadata": {},
   "outputs": [
    {
     "data": {
      "image/png": "[encoded data removed]",
      "text/plain": [
       "<Figure size 432x288 with 1 Axes>"
      ]
     },
     "metadata": {
      "needs_background": "light"
     },
     "output_type": "display_data"
    }
   ],
   "source": [
    "#df.category.value_counts().head(15).plot.bar();\n",
    "df.category.value_counts().head(25).plot.bar();"
   ]
  },
  {
   "cell_type": "markdown",
   "metadata": {},
   "source": [
    "### *** To Do ***"
   ]
  },
  {
   "cell_type": "code",
   "execution_count": null,
   "metadata": {},
   "outputs": [],
   "source": []
  },
  {
   "cell_type": "markdown",
   "metadata": {},
   "source": [
    "## SQL"
   ]
  },
  {
   "cell_type": "markdown",
   "metadata": {},
   "source": [
    "### Ids"
   ]
  },
  {
   "cell_type": "code",
   "execution_count": 175,
   "metadata": {},
   "outputs": [
    {
     "data": {
      "text/html": [
       "<div>\n",
       "<style scoped>\n",
       "    .dataframe tbody tr th:only-of-type {\n",
       "        vertical-align: middle;\n",
       "    }\n",
       "\n",
       "    .dataframe tbody tr th {\n",
       "        vertical-align: top;\n",
       "    }\n",
       "\n",
       "    .dataframe thead th {\n",
       "        text-align: right;\n",
       "    }\n",
       "</style>\n",
       "<table border=\"1\" class=\"dataframe\">\n",
       "  <thead>\n",
       "    <tr style=\"text-align: right;\">\n",
       "      <th></th>\n",
       "      <th>userId</th>\n",
       "      <th>Transactions</th>\n",
       "    </tr>\n",
       "  </thead>\n",
       "  <tbody>\n",
       "    <tr>\n",
       "      <th>0</th>\n",
       "      <td>99990</td>\n",
       "      <td>1842</td>\n",
       "    </tr>\n",
       "    <tr>\n",
       "      <th>1</th>\n",
       "      <td>99991</td>\n",
       "      <td>1204</td>\n",
       "    </tr>\n",
       "    <tr>\n",
       "      <th>2</th>\n",
       "      <td>99992</td>\n",
       "      <td>1273</td>\n",
       "    </tr>\n",
       "    <tr>\n",
       "      <th>3</th>\n",
       "      <td>99993</td>\n",
       "      <td>1175</td>\n",
       "    </tr>\n",
       "  </tbody>\n",
       "</table>\n",
       "</div>"
      ],
      "text/plain": [
       "  userId  Transactions\n",
       "0  99990          1842\n",
       "1  99991          1204\n",
       "2  99992          1273\n",
       "3  99993          1175"
      ]
     },
     "execution_count": 175,
     "metadata": {},
     "output_type": "execute_result"
    }
   ],
   "source": [
    "sqldf(\"select userId, count(*) as 'Transactions' from df group by userId\")"
   ]
  },
  {
   "cell_type": "code",
   "execution_count": 177,
   "metadata": {},
   "outputs": [
    {
     "data": {
      "text/html": [
       "<div>\n",
       "<style scoped>\n",
       "    .dataframe tbody tr th:only-of-type {\n",
       "        vertical-align: middle;\n",
       "    }\n",
       "\n",
       "    .dataframe tbody tr th {\n",
       "        vertical-align: top;\n",
       "    }\n",
       "\n",
       "    .dataframe thead th {\n",
       "        text-align: right;\n",
       "    }\n",
       "</style>\n",
       "<table border=\"1\" class=\"dataframe\">\n",
       "  <thead>\n",
       "    <tr style=\"text-align: right;\">\n",
       "      <th></th>\n",
       "      <th>userId</th>\n",
       "      <th>category</th>\n",
       "      <th>Number</th>\n",
       "    </tr>\n",
       "  </thead>\n",
       "  <tbody>\n",
       "    <tr>\n",
       "      <th>0</th>\n",
       "      <td>99993</td>\n",
       "      <td>Other</td>\n",
       "      <td>476</td>\n",
       "    </tr>\n",
       "    <tr>\n",
       "      <th>1</th>\n",
       "      <td>99993</td>\n",
       "      <td>TransportApp</td>\n",
       "      <td>222</td>\n",
       "    </tr>\n",
       "    <tr>\n",
       "      <th>2</th>\n",
       "      <td>99993</td>\n",
       "      <td>OtherIncome</td>\n",
       "      <td>100</td>\n",
       "    </tr>\n",
       "    <tr>\n",
       "      <th>3</th>\n",
       "      <td>99993</td>\n",
       "      <td>Restaurant</td>\n",
       "      <td>68</td>\n",
       "    </tr>\n",
       "    <tr>\n",
       "      <th>4</th>\n",
       "      <td>99993</td>\n",
       "      <td>TaxTransfer</td>\n",
       "      <td>66</td>\n",
       "    </tr>\n",
       "    <tr>\n",
       "      <th>5</th>\n",
       "      <td>99993</td>\n",
       "      <td>Withdrawals</td>\n",
       "      <td>46</td>\n",
       "    </tr>\n",
       "    <tr>\n",
       "      <th>6</th>\n",
       "      <td>99993</td>\n",
       "      <td>Market</td>\n",
       "      <td>45</td>\n",
       "    </tr>\n",
       "    <tr>\n",
       "      <th>7</th>\n",
       "      <td>99993</td>\n",
       "      <td>Convenience</td>\n",
       "      <td>21</td>\n",
       "    </tr>\n",
       "    <tr>\n",
       "      <th>8</th>\n",
       "      <td>99993</td>\n",
       "      <td>MobilePhoneRecharge</td>\n",
       "      <td>21</td>\n",
       "    </tr>\n",
       "    <tr>\n",
       "      <th>9</th>\n",
       "      <td>99993</td>\n",
       "      <td>Rates</td>\n",
       "      <td>19</td>\n",
       "    </tr>\n",
       "    <tr>\n",
       "      <th>10</th>\n",
       "      <td>99993</td>\n",
       "      <td>Other Clothing</td>\n",
       "      <td>13</td>\n",
       "    </tr>\n",
       "    <tr>\n",
       "      <th>11</th>\n",
       "      <td>99993</td>\n",
       "      <td>Interest</td>\n",
       "      <td>10</td>\n",
       "    </tr>\n",
       "    <tr>\n",
       "      <th>12</th>\n",
       "      <td>99993</td>\n",
       "      <td>Pharmacy</td>\n",
       "      <td>10</td>\n",
       "    </tr>\n",
       "    <tr>\n",
       "      <th>13</th>\n",
       "      <td>99993</td>\n",
       "      <td>CafesBakeries</td>\n",
       "      <td>9</td>\n",
       "    </tr>\n",
       "    <tr>\n",
       "      <th>14</th>\n",
       "      <td>99993</td>\n",
       "      <td>Accommodation</td>\n",
       "      <td>7</td>\n",
       "    </tr>\n",
       "  </tbody>\n",
       "</table>\n",
       "</div>"
      ],
      "text/plain": [
       "   userId             category  Number\n",
       "0   99993                Other     476\n",
       "1   99993         TransportApp     222\n",
       "2   99993          OtherIncome     100\n",
       "3   99993           Restaurant      68\n",
       "4   99993          TaxTransfer      66\n",
       "5   99993          Withdrawals      46\n",
       "6   99993               Market      45\n",
       "7   99993          Convenience      21\n",
       "8   99993  MobilePhoneRecharge      21\n",
       "9   99993                Rates      19\n",
       "10  99993       Other Clothing      13\n",
       "11  99993             Interest      10\n",
       "12  99993             Pharmacy      10\n",
       "13  99993        CafesBakeries       9\n",
       "14  99993        Accommodation       7"
      ]
     },
     "execution_count": 177,
     "metadata": {},
     "output_type": "execute_result"
    }
   ],
   "source": [
    "sql = \"\"\"\n",
    "SELECT userId, category, COUNT(category) AS Number\n",
    "FROM df \n",
    "WHERE userId = '99993' \n",
    "GROUP BY category\n",
    "ORDER BY Number DESC\n",
    "LIMIT 15\n",
    "\"\"\"\n",
    "\n",
    "sqldf(sql)"
   ]
  },
  {
   "cell_type": "code",
   "execution_count": null,
   "metadata": {},
   "outputs": [],
   "source": []
  },
  {
   "cell_type": "code",
   "execution_count": null,
   "metadata": {},
   "outputs": [],
   "source": []
  },
  {
   "cell_type": "code",
   "execution_count": 170,
   "metadata": {},
   "outputs": [],
   "source": []
  },
  {
   "cell_type": "code",
   "execution_count": 171,
   "metadata": {},
   "outputs": [],
   "source": [
    "# How to show changes - Switch dates"
   ]
  },
  {
   "cell_type": "code",
   "execution_count": 172,
   "metadata": {},
   "outputs": [],
   "source": [
    "# Add transactions to make only 2 more needed to make it the 2nd lowest"
   ]
  },
  {
   "cell_type": "code",
   "execution_count": 173,
   "metadata": {},
   "outputs": [],
   "source": []
  },
  {
   "cell_type": "code",
   "execution_count": null,
   "metadata": {},
   "outputs": [],
   "source": []
  },
  {
   "cell_type": "markdown",
   "metadata": {},
   "source": [
    "## Export processed data"
   ]
  },
  {
   "cell_type": "code",
   "execution_count": 174,
   "metadata": {},
   "outputs": [],
   "source": [
    "df.to_csv('/Users/chriswatson/Downloads/dataGateDemo_4users.csv')"
   ]
  },
  {
   "cell_type": "code",
   "execution_count": null,
   "metadata": {},
   "outputs": [],
   "source": []
  }
 ],
 "metadata": {
  "kernelspec": {
   "display_name": "Python 3",
   "language": "python",
   "name": "python3"
  },
  "language_info": {
   "codemirror_mode": {
    "name": "ipython",
    "version": 3
   },
   "file_extension": ".py",
   "mimetype": "text/x-python",
   "name": "python",
   "nbconvert_exporter": "python",
   "pygments_lexer": "ipython3",
   "version": "3.8.7"
  }
 },
 "nbformat": 4,
 "nbformat_minor": 4
}
